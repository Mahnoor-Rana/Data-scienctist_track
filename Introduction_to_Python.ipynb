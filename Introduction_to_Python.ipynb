{
 "cells": [
  {
   "cell_type": "markdown",
   "id": "a57814e8",
   "metadata": {},
   "source": [
    "## Hello Python!"
   ]
  },
  {
   "cell_type": "markdown",
   "id": "ba81cab8",
   "metadata": {},
   "source": [
    "How to write code in python...\n",
    "lets start"
   ]
  },
  {
   "cell_type": "markdown",
   "id": "63150e62",
   "metadata": {},
   "source": [
    "### For Comments "
   ]
  },
  {
   "cell_type": "markdown",
   "id": "21659668",
   "metadata": {},
   "source": [
    "We use \"#\" for comments in python"
   ]
  },
  {
   "cell_type": "markdown",
   "id": "9f85313c",
   "metadata": {},
   "source": [
    "### Print statement or python  looks like as Calculator"
   ]
  },
  {
   "cell_type": "code",
   "execution_count": 4,
   "id": "faf8ba0f",
   "metadata": {
    "scrolled": true
   },
   "outputs": [
    {
     "name": "stdout",
     "output_type": "stream",
     "text": [
      "10\n",
      "0\n",
      "15\n",
      "5.0\n",
      "4\n",
      "16\n",
      "194.87171000000012\n"
     ]
    }
   ],
   "source": [
    "# Addition, subtraction\n",
    "print(5 + 5)\n",
    "print(5 - 5)\n",
    "\n",
    "# Multiplication, division, modulo, and exponentiation\n",
    "print(3 * 5)\n",
    "print(10 / 2)\n",
    "print(18 % 7)\n",
    "print(4 ** 2)\n",
    "\n",
    "# How much is your $100 worth after 7 years?\n",
    "print(100*1.1**7)"
   ]
  },
  {
   "cell_type": "raw",
   "id": "9399bb33",
   "metadata": {},
   "source": [
    "10\n",
    "0\n",
    "15\n",
    "5.0\n",
    "4\n",
    "16\n",
    "194.8717100"
   ]
  },
  {
   "cell_type": "markdown",
   "id": "6641bc44",
   "metadata": {},
   "source": [
    "## Variables and Types"
   ]
  },
  {
   "cell_type": "markdown",
   "id": "c2234555",
   "metadata": {},
   "source": [
    " A Python variable is a reserved memory location to store values.\n",
    " Python sets the variable type based on the value that is assigned to it.\n",
    "- x = 10\n",
    "- y=9"
   ]
  },
  {
   "cell_type": "code",
   "execution_count": 6,
   "id": "36ee5e65",
   "metadata": {},
   "outputs": [
    {
     "name": "stdout",
     "output_type": "stream",
     "text": [
      "100\n"
     ]
    }
   ],
   "source": [
    "# Create a variable savings\n",
    "\n",
    "savings=100\n",
    "\n",
    "# Print out savings\n",
    "print(savings)"
   ]
  },
  {
   "cell_type": "markdown",
   "id": "bab8d704",
   "metadata": {},
   "source": [
    "100"
   ]
  },
  {
   "cell_type": "markdown",
   "id": "231d01df",
   "metadata": {},
   "source": [
    "### Calculations"
   ]
  },
  {
   "cell_type": "code",
   "execution_count": 10,
   "id": "4d183640",
   "metadata": {},
   "outputs": [
    {
     "data": {
      "text/plain": [
       "110.5"
      ]
     },
     "execution_count": 10,
     "metadata": {},
     "output_type": "execute_result"
    }
   ],
   "source": [
    "# calculate Area of Triangle\n",
    "base = 10.0\n",
    "height = 22.1\n",
    "Area = 0.5*(base * height)\n",
    "Area"
   ]
  },
  {
   "cell_type": "markdown",
   "id": "a8bb78dc",
   "metadata": {},
   "source": [
    "110.5"
   ]
  },
  {
   "cell_type": "markdown",
   "id": "c99a5bf1",
   "metadata": {},
   "source": [
    "### Types"
   ]
  },
  {
   "cell_type": "code",
   "execution_count": 11,
   "id": "9953602f",
   "metadata": {},
   "outputs": [
    {
     "data": {
      "text/plain": [
       "int"
      ]
     },
     "execution_count": 11,
     "metadata": {},
     "output_type": "execute_result"
    }
   ],
   "source": [
    "X = 2\n",
    "type(X)"
   ]
  },
  {
   "cell_type": "markdown",
   "id": "adc2fff0",
   "metadata": {},
   "source": [
    "int"
   ]
  },
  {
   "cell_type": "code",
   "execution_count": 13,
   "id": "6f5b9a06",
   "metadata": {},
   "outputs": [
    {
     "data": {
      "text/plain": [
       "bool"
      ]
     },
     "execution_count": 13,
     "metadata": {},
     "output_type": "execute_result"
    }
   ],
   "source": [
    "Y = True\n",
    "type(Y)"
   ]
  },
  {
   "cell_type": "markdown",
   "id": "5da2fb1d",
   "metadata": {},
   "source": [
    "bool"
   ]
  },
  {
   "cell_type": "code",
   "execution_count": 14,
   "id": "a1b586d1",
   "metadata": {},
   "outputs": [
    {
     "data": {
      "text/plain": [
       "float"
      ]
     },
     "execution_count": 14,
     "metadata": {},
     "output_type": "execute_result"
    }
   ],
   "source": [
    "Z = 8.9\n",
    "type(Z)"
   ]
  },
  {
   "cell_type": "markdown",
   "id": "19e4e809",
   "metadata": {},
   "source": [
    "float"
   ]
  },
  {
   "cell_type": "code",
   "execution_count": 16,
   "id": "31a6238e",
   "metadata": {},
   "outputs": [
    {
     "data": {
      "text/plain": [
       "complex"
      ]
     },
     "execution_count": 16,
     "metadata": {},
     "output_type": "execute_result"
    }
   ],
   "source": [
    "A = 2+3j\n",
    "type(A)"
   ]
  },
  {
   "cell_type": "markdown",
   "id": "cf7c3bf2",
   "metadata": {},
   "source": [
    "complex"
   ]
  },
  {
   "cell_type": "markdown",
   "id": "6a35a059",
   "metadata": {},
   "source": [
    "### Type Conversion"
   ]
  },
  {
   "cell_type": "code",
   "execution_count": 17,
   "id": "819e0bb7",
   "metadata": {},
   "outputs": [
    {
     "name": "stdout",
     "output_type": "stream",
     "text": [
      "I started with $100 and now have $194.87171000000012. Awesome!\n"
     ]
    }
   ],
   "source": [
    "# Definition of savings and result\n",
    "savings = 100\n",
    "result = 100 * 1.10 ** 7\n",
    "\n",
    "# Fix the printout\n",
    "print(\"I started with $\" +str( savings) + \" and now have $\" + str(result) + \". Awesome!\")\n",
    "\n",
    "# Definition of pi_string\n",
    "pi_string = \"3.1415926\"\n",
    "\n",
    "# Convert pi_string into float: pi_float\n",
    "pi_float = float(pi_string)"
   ]
  },
  {
   "cell_type": "markdown",
   "id": "47b64dbb",
   "metadata": {},
   "source": [
    "### Problem"
   ]
  },
  {
   "cell_type": "markdown",
   "id": "31d4b4dd",
   "metadata": {},
   "source": [
    "- Each variable represents single value.\n",
    "- Data Science: Many data points.\n",
    "- eg: Heights of the Family"
   ]
  },
  {
   "cell_type": "code",
   "execution_count": 19,
   "id": "a237e94b",
   "metadata": {},
   "outputs": [],
   "source": [
    "h1 = 2.3\n",
    "h2 = 3.2\n",
    "h3 = 3.5"
   ]
  },
  {
   "cell_type": "markdown",
   "id": "7e347292",
   "metadata": {},
   "source": [
    "- This is inconvenient way"
   ]
  },
  {
   "cell_type": "markdown",
   "id": "d71c054a",
   "metadata": {},
   "source": [
    "## Python has special built-in-function 'list'"
   ]
  },
  {
   "cell_type": "code",
   "execution_count": 22,
   "id": "c0fa1dda",
   "metadata": {},
   "outputs": [
    {
     "data": {
      "text/plain": [
       "[2.3, 3.2, 3.5]"
      ]
     },
     "execution_count": 22,
     "metadata": {},
     "output_type": "execute_result"
    }
   ],
   "source": [
    "[2.3,3.2,3.5]"
   ]
  },
  {
   "cell_type": "code",
   "execution_count": 23,
   "id": "b15a0c97",
   "metadata": {},
   "outputs": [
    {
     "name": "stdout",
     "output_type": "stream",
     "text": [
      "[11.25, 18.0, 20.0, 10.75, 9.5]\n"
     ]
    }
   ],
   "source": [
    "# area variables (in square meters)\n",
    "hall = 11.25\n",
    "kit = 18.0\n",
    "liv = 20.0\n",
    "bed = 10.75\n",
    "bath = 9.50\n",
    "\n",
    "# Create list areas\n",
    "\n",
    "\n",
    "List = [hall,kit,liv,bed,bath,]\n",
    "# Print areas\n",
    "print(List)\n"
   ]
  },
  {
   "cell_type": "code",
   "execution_count": 24,
   "id": "750eca11",
   "metadata": {},
   "outputs": [
    {
     "name": "stdout",
     "output_type": "stream",
     "text": [
      "['hallway', 11.25, 'kitchen', 18.0, 'living room', 20.0, 'bedroom', 10.75, 'bathroom', 9.5]\n"
     ]
    }
   ],
   "source": [
    "# area variables (in square meters)\n",
    "hall = 11.25\n",
    "kit = 18.0\n",
    "liv = 20.0\n",
    "bed = 10.75\n",
    "bath = 9.50\n",
    "\n",
    "# Adapt list areas\n",
    "areas = [\"hallway\",hall, \"kitchen\",kit, \"living room\",liv,  \"bedroom\",bed,\"bathroom\", bath]\n",
    "\n",
    "# Print areas\n",
    "print(areas)"
   ]
  },
  {
   "cell_type": "markdown",
   "id": "df10d185",
   "metadata": {},
   "source": [
    "['hallway', 11.25, 'kitchen', 18.0, 'living room', 20.0, 'bedroom', 10.75, 'bathroom', 9.5]\n"
   ]
  },
  {
   "cell_type": "markdown",
   "id": "6466f558",
   "metadata": {},
   "source": [
    "### List of Lists"
   ]
  },
  {
   "cell_type": "code",
   "execution_count": 25,
   "id": "b1f694f5",
   "metadata": {
    "scrolled": true
   },
   "outputs": [
    {
     "name": "stdout",
     "output_type": "stream",
     "text": [
      "[['hallway', 11.25], ['kitchen', 18.0], ['living room', 20.0], ['bedroom', 10.75], ['bathroom', 9.5]]\n",
      "<class 'list'>\n"
     ]
    }
   ],
   "source": [
    "# area variables (in square meters)\n",
    "hall = 11.25\n",
    "kit = 18.0\n",
    "liv = 20.0\n",
    "bed = 10.75\n",
    "bath = 9.50\n",
    "\n",
    "# house information as list of lists\n",
    "house = [[\"hallway\", hall],\n",
    "         [\"kitchen\", kit],\n",
    "         [\"living room\", liv],\n",
    "         [\"bedroom\",bed],\n",
    "         [\"bathroom\",bath]]\n",
    "\n",
    "# Print out house\n",
    "print(house)\n",
    "\n",
    "# Print out the type of house\n",
    "print(type(house))\n"
   ]
  },
  {
   "cell_type": "markdown",
   "id": "18d4da84",
   "metadata": {},
   "source": [
    "[['hallway', 11.25], ['kitchen', 18.0], ['living room', 20.0], ['bedroom', 10.75], ['bathroom', 9.5]]\n",
    "<class 'list'>"
   ]
  },
  {
   "cell_type": "markdown",
   "id": "adb3bb6f",
   "metadata": {},
   "source": [
    "### Slicing and Dicing"
   ]
  },
  {
   "cell_type": "code",
   "execution_count": 1,
   "id": "ae2467ce",
   "metadata": {},
   "outputs": [
    {
     "name": "stdout",
     "output_type": "stream",
     "text": [
      "11.25\n",
      "9.5\n",
      "20.0\n"
     ]
    }
   ],
   "source": [
    "# Create the areas list\n",
    "areas = [\"hallway\", 11.25, \"kitchen\", 18.0, \"living room\", 20.0, \"bedroom\", 10.75, \"bathroom\", 9.50]\n",
    "\n",
    "# Print out second element from areas\n",
    "print(areas[1])\n",
    "\n",
    "# Print out last element from areas\n",
    "print(areas[-1])\n",
    "\n",
    "# Print out the area of the living room\n",
    "print(areas[5])"
   ]
  },
  {
   "cell_type": "raw",
   "id": "e9fc3299",
   "metadata": {},
   "source": [
    "11.25\n",
    "9.5\n",
    "20.0"
   ]
  },
  {
   "cell_type": "markdown",
   "id": "482d7992",
   "metadata": {},
   "source": [
    "### Addition of inside elements of list"
   ]
  },
  {
   "cell_type": "code",
   "execution_count": 26,
   "id": "f2f4a505",
   "metadata": {},
   "outputs": [
    {
     "name": "stdout",
     "output_type": "stream",
     "text": [
      "28.75\n"
     ]
    }
   ],
   "source": [
    "# Create the areas list\n",
    "areas = [\"hallway\", 11.25, \"kitchen\", 18.0, \"living room\", 20.0, \"bedroom\", 10.75, \"bathroom\", 9.50]\n",
    "\n",
    "# Sum of kitchen and bedroom area: eat_sleep_area\n",
    "eat_sleep_area = areas[3] + areas[7]\n",
    "\n",
    "# Print the variable eat_sleep_area\n",
    "print(eat_sleep_area)"
   ]
  },
  {
   "cell_type": "markdown",
   "id": "91137193",
   "metadata": {},
   "source": [
    "28.75"
   ]
  },
  {
   "cell_type": "code",
   "execution_count": 27,
   "id": "d5e90019",
   "metadata": {},
   "outputs": [
    {
     "name": "stdout",
     "output_type": "stream",
     "text": [
      "['hallway', 11.25, 'kitchen', 18.0, 'living room', 20.0]\n",
      "['bedroom', 10.75, 'bathroom', 9.5]\n"
     ]
    }
   ],
   "source": [
    "# Create the areas list\n",
    "areas = [\"hallway\", 11.25, \"kitchen\", 18.0, \"living room\", 20.0, \"bedroom\", 10.75, \"bathroom\", 9.50]\n",
    "\n",
    "# Use slicing to create downstairs\n",
    "downstairs= areas[0:6]\n",
    "# Use slicing to create upstairs\n",
    "upstairs = areas[6:10]\n",
    "\n",
    "\n",
    "# Print out downstairs and upstairs\n",
    "print(downstairs)\n",
    "print(upstairs)"
   ]
  },
  {
   "cell_type": "raw",
   "id": "1d9d99fd",
   "metadata": {},
   "source": [
    "['hallway', 11.25, 'kitchen', 18.0, 'living room', 20.0]\n",
    "['bedroom', 10.75, 'bathroom', 9.5]"
   ]
  },
  {
   "cell_type": "markdown",
   "id": "34c8eace",
   "metadata": {},
   "source": [
    "### List Manipulation "
   ]
  },
  {
   "cell_type": "markdown",
   "id": "61cf3d78",
   "metadata": {},
   "source": [
    "- Change list elements\n",
    "- Add list elements \n",
    "- Remove list elements"
   ]
  },
  {
   "cell_type": "code",
   "execution_count": 31,
   "id": "d7816c1f",
   "metadata": {},
   "outputs": [
    {
     "name": "stdout",
     "output_type": "stream",
     "text": [
      "['hallway', 11.25, 'kitchen', 18.0, 'chill zone', 20.0, 'bedroom', 10.75, 'bathroom', 10.5]\n"
     ]
    }
   ],
   "source": [
    "# Create the areas list\n",
    "areas = [\"hallway\", 11.25, \"kitchen\", 18.0, \"living room\", 20.0, \"bedroom\", 10.75, \"bathroom\", 9.50]\n",
    "\n",
    "# Correct the bathroom area\n",
    "areas[-1]= 10.50\n",
    "\n",
    "# Change \"living room\" to \"chill zone\"\n",
    "areas[4] = \"chill zone\"\n",
    "print(areas)"
   ]
  },
  {
   "cell_type": "markdown",
   "id": "a1de8d6e",
   "metadata": {},
   "source": [
    "['hallway', 11.25, 'kitchen', 18.0, 'chill zone', 20.0, 'bedroom', 10.75, 'bathroom', 10.5]"
   ]
  },
  {
   "cell_type": "code",
   "execution_count": 2,
   "id": "dfc777ea",
   "metadata": {
    "scrolled": true
   },
   "outputs": [
    {
     "name": "stdout",
     "output_type": "stream",
     "text": [
      "['hallway', 11.25, 'kitchen', 18.0, 'chill zone', 20.0, 'bedroom', 10.75, 'bathroom', 10.5, 'poolhouse', 24.5]\n",
      "['hallway', 11.25, 'kitchen', 18.0, 'chill zone', 20.0, 'bedroom', 10.75, 'bathroom', 10.5, 'poolhouse', 24.5, 'garage', 15.45]\n"
     ]
    }
   ],
   "source": [
    "# Create the areas list and make some changes\n",
    "areas = [\"hallway\", 11.25, \"kitchen\", 18.0, \"chill zone\", 20.0,\n",
    "         \"bedroom\", 10.75, \"bathroom\", 10.50]\n",
    "\n",
    "# Add poolhouse data to areas, new list is areas_1\n",
    "areas_1 = areas + ['poolhouse',24.5]\n",
    "\n",
    "# Add garage data to areas_1, new list is areas_2\n",
    "areas_2 = areas_1 + ['garage',15.45]\n",
    "\n",
    "print(areas_1)\n",
    "print(areas_2)\n"
   ]
  },
  {
   "cell_type": "raw",
   "id": "5309674f",
   "metadata": {},
   "source": [
    "['hallway', 11.25, 'kitchen', 18.0, 'chill zone', 20.0, 'bedroom', 10.75, 'bathroom', 10.5, 'poolhouse', 24.5]\n",
    "['hallway', 11.25, 'kitchen', 18.0, 'chill zone', 20.0, 'bedroom', 10.75, 'bathroom', 10.5, 'poolhouse', 24.5, 'garage', 15.45]\n"
   ]
  },
  {
   "cell_type": "markdown",
   "id": "7296ef45",
   "metadata": {},
   "source": [
    "## Functions"
   ]
  },
  {
   "cell_type": "markdown",
   "id": "fbdcf52f",
   "metadata": {},
   "source": [
    "- piece of reuseable code"
   ]
  },
  {
   "cell_type": "code",
   "execution_count": 32,
   "id": "105f2a8b",
   "metadata": {},
   "outputs": [
    {
     "name": "stdout",
     "output_type": "stream",
     "text": [
      "<class 'list'>\n",
      "4\n"
     ]
    }
   ],
   "source": [
    "# Create variables var1 and var2\n",
    "var1 = [1, 2, 3, 4]\n",
    "var2 = True\n",
    "\n",
    "# Print out type of var1\n",
    "\n",
    "print(type(var1))\n",
    "# Print out length of var1\n",
    "\n",
    "print(len(var1))\n",
    "# Convert var2 to an integer: out2\n",
    "out2 = int(var2)"
   ]
  },
  {
   "cell_type": "raw",
   "id": "991c80bf",
   "metadata": {},
   "source": [
    "<class 'list'>\n",
    "4"
   ]
  },
  {
   "cell_type": "code",
   "execution_count": 33,
   "id": "100cb894",
   "metadata": {},
   "outputs": [
    {
     "name": "stdout",
     "output_type": "stream",
     "text": [
      "[20.0, 18.0, 11.25, 10.75, 9.5]\n"
     ]
    }
   ],
   "source": [
    "# Create lists first and second\n",
    "first = [11.25, 18.0, 20.0]\n",
    "second = [10.75, 9.50]\n",
    "\n",
    "# Paste together first and second: full\n",
    "full = first + second\n",
    "\n",
    "# Sort full in descending order: full_sorted\n",
    "full_sorted = sorted(full, reverse = True)\n",
    "\n",
    "# Print out full_sorted\n",
    "print(full_sorted)"
   ]
  },
  {
   "cell_type": "markdown",
   "id": "09628178",
   "metadata": {},
   "source": [
    "[20.0, 18.0, 11.25, 10.75, 9.5]"
   ]
  },
  {
   "cell_type": "markdown",
   "id": "aa3e2350",
   "metadata": {},
   "source": [
    "### Methods"
   ]
  },
  {
   "cell_type": "code",
   "execution_count": 39,
   "id": "44c701f4",
   "metadata": {},
   "outputs": [
    {
     "name": "stdout",
     "output_type": "stream",
     "text": [
      "2\n",
      "1\n"
     ]
    }
   ],
   "source": [
    "# Create list areas\n",
    "areas = [11.25, 18.0, 20.0, 10.75, 9.50]\n",
    "\n",
    "# Print out the index of the element 20.0\n",
    "\n",
    "print(areas.index(20.0))\n",
    "# Print out how often 9.50 appears in areas\n",
    "\n",
    "print(areas.count(9.50))\n"
   ]
  },
  {
   "cell_type": "raw",
   "id": "70ad93f6",
   "metadata": {},
   "source": [
    "2\n",
    "1"
   ]
  },
  {
   "cell_type": "code",
   "execution_count": 40,
   "id": "eadd3ecb",
   "metadata": {},
   "outputs": [
    {
     "name": "stdout",
     "output_type": "stream",
     "text": [
      "[11.25, 18.0, 20.0, 10.75, 9.5, 24.5, 15.45]\n",
      "[15.45, 24.5, 9.5, 10.75, 20.0, 18.0, 11.25]\n"
     ]
    }
   ],
   "source": [
    "# Create list areas\n",
    "areas = [11.25, 18.0, 20.0, 10.75, 9.50]\n",
    "\n",
    "# Use append twice to add poolhouse and garage size\n",
    "areas.append(24.5)\n",
    "\n",
    "areas.append(15.45)\n",
    "\n",
    "# Print out areas\n",
    "print(areas)\n",
    "\n",
    "# Reverse the orders of the elements in areas\n",
    "areas.reverse()\n",
    "\n",
    "# Print out areas\n",
    "print(areas)"
   ]
  },
  {
   "cell_type": "raw",
   "id": "a4575cb1",
   "metadata": {},
   "source": [
    "[11.25, 18.0, 20.0, 10.75, 9.5, 24.5, 15.45]\n",
    "[15.45, 24.5, 9.5, 10.75, 20.0, 18.0, 11.25]"
   ]
  },
  {
   "cell_type": "markdown",
   "id": "a25a1e19",
   "metadata": {},
   "source": [
    "## One More Method"
   ]
  },
  {
   "cell_type": "markdown",
   "id": "3f34fb22",
   "metadata": {},
   "source": [
    "# Result : Packages\n",
    "Directory of Python Scripts.\n",
    "Each script = module\n",
    "Specify functions, methods,types.\n",
    "Thousands of packages available.\n",
    "- Numpy\n",
    "- Matplotlib\n",
    "- Scikit-learn\n",
    "\n",
    "\n",
    "### Install package\n",
    "- Download get-pip.py\n",
    "- Terminal:\n",
    "- python3 get-pip.py\n",
    "- pip3 install numpy"
   ]
  },
  {
   "cell_type": "code",
   "execution_count": 44,
   "id": "c869bb54",
   "metadata": {},
   "outputs": [
    {
     "data": {
      "text/plain": [
       "array([2, 3])"
      ]
     },
     "execution_count": 44,
     "metadata": {},
     "output_type": "execute_result"
    }
   ],
   "source": [
    "import  numpy as np\n",
    "np.array([2,3])"
   ]
  },
  {
   "cell_type": "markdown",
   "id": "85a21f8d",
   "metadata": {},
   "source": [
    "array([2, 3])"
   ]
  },
  {
   "cell_type": "code",
   "execution_count": 45,
   "id": "5fb559ef",
   "metadata": {},
   "outputs": [
    {
     "name": "stdout",
     "output_type": "stream",
     "text": [
      "Circumference: 2.701769682087222\n",
      "Area: 0.5808804816487527\n"
     ]
    }
   ],
   "source": [
    "# lets solve maths problem \n",
    "# Definition of radius\n",
    "r = 0.43\n",
    "\n",
    "# Import the math package\n",
    "import math\n",
    "\n",
    "# Calculate C\n",
    "C = 2 * r *math.pi\n",
    "\n",
    "# Calculate A\n",
    "A = math.pi *r**2\n",
    "\n",
    "# Build printout\n",
    "print(\"Circumference: \" + str(C))\n",
    "print(\"Area: \" + str(A))"
   ]
  },
  {
   "cell_type": "raw",
   "id": "909ec7cb",
   "metadata": {},
   "source": [
    "Circumference: 2.701769682087222\n",
    "Area: 0.5808804816487527"
   ]
  },
  {
   "cell_type": "code",
   "execution_count": 46,
   "id": "1980a211",
   "metadata": {},
   "outputs": [
    {
     "name": "stdout",
     "output_type": "stream",
     "text": [
      "40317.10572106901\n"
     ]
    }
   ],
   "source": [
    "# Definition of radius\n",
    "r = 192500\n",
    "\n",
    "# Import radians function of math package\n",
    "from math import radians\n",
    "\n",
    "# Travel distance of Moon over 12 degrees. Store in dist.\n",
    "dist = r * radians(12)\n",
    "\n",
    "# Print out dist\n",
    "print(dist)"
   ]
  },
  {
   "cell_type": "markdown",
   "id": "581a2764",
   "metadata": {},
   "source": [
    "40317.10572106901"
   ]
  },
  {
   "cell_type": "markdown",
   "id": "3c6c39a1",
   "metadata": {},
   "source": [
    "- #### Below I'm Using Numpy, but not very clear"
   ]
  },
  {
   "cell_type": "code",
   "execution_count": 47,
   "id": "e59269d2",
   "metadata": {},
   "outputs": [
    {
     "name": "stdout",
     "output_type": "stream",
     "text": [
      "10 elements in fam_ext\n",
      "['liz' '1.73' 'emma' '1.68' 'mom' '1.71' 'dad' '1.89' 'me' '1.79']\n"
     ]
    }
   ],
   "source": [
    "from numpy import array\n",
    "\n",
    "fam = [\"liz\", 1.73,\"emma\", 1.68,\"mom\", 1.71,\"dad\", 1.89]\n",
    "\n",
    "fam_ext = fam + [\"me\", 1.79]\n",
    "\n",
    "print(str(len(fam_ext)) + \" elements in fam_ext\")\n",
    "\n",
    "np_fam = array(fam_ext)\n",
    "print(np_fam)"
   ]
  },
  {
   "cell_type": "raw",
   "id": "6e58ea0d",
   "metadata": {},
   "source": [
    "10 elements in fam_ext\n",
    "['liz' '1.73' 'emma' '1.68' 'mom' '1.71' 'dad' '1.89' 'me' '1.79']"
   ]
  },
  {
   "cell_type": "markdown",
   "id": "76c5580d",
   "metadata": {},
   "source": [
    "- #### Recomended method to import & use packages"
   ]
  },
  {
   "cell_type": "code",
   "execution_count": 48,
   "id": "62ddd86d",
   "metadata": {},
   "outputs": [
    {
     "name": "stdout",
     "output_type": "stream",
     "text": [
      "10 elements in fam_ext\n",
      "['liz' '1.73' 'emma' '1.68' 'mom' '1.71' 'dad' '1.89' 'me' '1.79']\n"
     ]
    }
   ],
   "source": [
    "import numpy as np\n",
    "\n",
    "fam = [\"liz\", 1.73,\"emma\", 1.68,\"mom\", 1.71,\"dad\", 1.89]\n",
    "\n",
    "fam_ext = fam + [\"me\", 1.79]\n",
    "\n",
    "print(str(len(fam_ext)) + \" elements in fam_ext\")\n",
    "\n",
    "np_fam = np.array(fam_ext)\n",
    "print(np_fam)"
   ]
  },
  {
   "cell_type": "raw",
   "id": "4afd7d0a",
   "metadata": {},
   "source": [
    "10 elements in fam_ext\n",
    "['liz' '1.73' 'emma' '1.68' 'mom' '1.71' 'dad' '1.89' 'me' '1.79']"
   ]
  },
  {
   "cell_type": "code",
   "execution_count": 50,
   "id": "a48ddb59",
   "metadata": {},
   "outputs": [
    {
     "name": "stdout",
     "output_type": "stream",
     "text": [
      "<class 'numpy.ndarray'>\n",
      "[180 215 210 210 188 176 209 200]\n"
     ]
    }
   ],
   "source": [
    "# Create list baseball\n",
    "baseball = [180, 215, 210, 210, 188, 176, 209, 200]\n",
    "\n",
    "# Import the numpy package as np\n",
    "import numpy as np\n",
    "# Create a numpy array from baseball: np_baseball\n",
    "np_baseball = np.array(baseball)\n",
    "\n",
    "# Print out type of np_baseball\n",
    "print(type(np_baseball))\n",
    "print(np_baseball)"
   ]
  },
  {
   "cell_type": "raw",
   "id": "0dcd8f8a",
   "metadata": {},
   "source": [
    "<class 'numpy.ndarray'>\n",
    "[180 215 210 210 188 176 209 200]"
   ]
  },
  {
   "cell_type": "markdown",
   "id": "fe3b9286",
   "metadata": {},
   "source": [
    "### 2D Numpy Array"
   ]
  },
  {
   "cell_type": "code",
   "execution_count": 51,
   "id": "f9d7a0f7",
   "metadata": {},
   "outputs": [
    {
     "name": "stdout",
     "output_type": "stream",
     "text": [
      "<class 'numpy.ndarray'>\n",
      "(4, 2)\n"
     ]
    }
   ],
   "source": [
    "# Create baseball, a list of lists\n",
    "baseball = [[180, 78.4],\n",
    "            [215, 102.7],\n",
    "            [210, 98.5],\n",
    "            [188, 75.2]]\n",
    "\n",
    "# Import numpy\n",
    "import numpy as np\n",
    "\n",
    "# Create a 2D numpy array from baseball: np_baseball\n",
    "np_baseball =np.array(baseball)\n",
    "\n",
    "# Print out the type of np_baseball\n",
    "print(type(np_baseball))\n",
    "\n",
    "# Print out the shape of np_baseball\n",
    "print(np_baseball.shape)"
   ]
  },
  {
   "cell_type": "raw",
   "id": "6f6f21a3",
   "metadata": {},
   "source": [
    "<class 'numpy.ndarray'>\n",
    "[180 215 210 210 188 176 209 200]"
   ]
  },
  {
   "cell_type": "markdown",
   "id": "43b806ce",
   "metadata": {},
   "source": [
    "## Data Analysis"
   ]
  },
  {
   "cell_type": "markdown",
   "id": "8b4babfe",
   "metadata": {},
   "source": [
    "- Get to know about data "
   ]
  },
  {
   "cell_type": "markdown",
   "id": "6f526fa4",
   "metadata": {},
   "source": [
    "### Basic Statistics "
   ]
  },
  {
   "cell_type": "code",
   "execution_count": 59,
   "id": "d671dc44",
   "metadata": {},
   "outputs": [
    {
     "data": {
      "text/plain": [
       "9.15"
      ]
     },
     "execution_count": 59,
     "metadata": {},
     "output_type": "execute_result"
    }
   ],
   "source": [
    "arr = [2.2,1.2,11.2,22]\n",
    "np.mean(arr)"
   ]
  },
  {
   "cell_type": "markdown",
   "id": "ed938f5f",
   "metadata": {},
   "source": [
    "9.15"
   ]
  },
  {
   "cell_type": "code",
   "execution_count": 60,
   "id": "55e1801e",
   "metadata": {},
   "outputs": [
    {
     "data": {
      "text/plain": [
       "6.699999999999999"
      ]
     },
     "execution_count": 60,
     "metadata": {},
     "output_type": "execute_result"
    }
   ],
   "source": [
    "arr = [2.2,1.2,11.2,22]\n",
    "np.median(arr)"
   ]
  },
  {
   "cell_type": "markdown",
   "id": "5aa27a26",
   "metadata": {},
   "source": [
    "6.699999999999999"
   ]
  },
  {
   "cell_type": "code",
   "execution_count": 61,
   "id": "84c6204e",
   "metadata": {},
   "outputs": [
    {
     "data": {
      "text/plain": [
       "8.378991586103902"
      ]
     },
     "execution_count": 61,
     "metadata": {},
     "output_type": "execute_result"
    }
   ],
   "source": [
    "arr = [2.2,1.2,11.2,22]\n",
    "np.std(arr)"
   ]
  },
  {
   "cell_type": "markdown",
   "id": "c2bd7d56",
   "metadata": {},
   "source": [
    "8.378991586103902"
   ]
  },
  {
   "cell_type": "code",
   "execution_count": 62,
   "id": "188da132",
   "metadata": {},
   "outputs": [
    {
     "data": {
      "text/plain": [
       "1.0"
      ]
     },
     "execution_count": 62,
     "metadata": {},
     "output_type": "execute_result"
    }
   ],
   "source": [
    "arr = [2.2,1.2,11.2,22]\n",
    "np.corrcoef(arr)"
   ]
  },
  {
   "cell_type": "markdown",
   "id": "ff4595a9",
   "metadata": {},
   "source": [
    "1.0"
   ]
  },
  {
   "cell_type": "code",
   "execution_count": null,
   "id": "877cce6d",
   "metadata": {},
   "outputs": [],
   "source": []
  },
  {
   "cell_type": "code",
   "execution_count": null,
   "id": "11eb0d4e",
   "metadata": {},
   "outputs": [],
   "source": []
  }
 ],
 "metadata": {
  "kernelspec": {
   "display_name": "Python 3",
   "language": "python",
   "name": "python3"
  },
  "language_info": {
   "codemirror_mode": {
    "name": "ipython",
    "version": 3
   },
   "file_extension": ".py",
   "mimetype": "text/x-python",
   "name": "python",
   "nbconvert_exporter": "python",
   "pygments_lexer": "ipython3",
   "version": "3.8.8"
  }
 },
 "nbformat": 4,
 "nbformat_minor": 5
}
