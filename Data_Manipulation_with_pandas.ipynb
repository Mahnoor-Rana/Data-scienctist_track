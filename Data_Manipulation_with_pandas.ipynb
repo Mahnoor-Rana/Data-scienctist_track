{
 "cells": [
  {
   "cell_type": "markdown",
   "id": "c701b126",
   "metadata": {},
   "source": [
    "## Data Manipulation With Pandas"
   ]
  },
  {
   "cell_type": "markdown",
   "id": "21ece6f7",
   "metadata": {},
   "source": [
    "### What's the point of pandas?"
   ]
  },
  {
   "cell_type": "markdown",
   "id": "3fe6d248",
   "metadata": {},
   "source": [
    "- Data Manipulation skill track \n",
    "- Data Visualization skill track"
   ]
  },
  {
   "cell_type": "markdown",
   "id": "2d76c699",
   "metadata": {},
   "source": [
    "### Pandas is built on "
   ]
  },
  {
   "cell_type": "markdown",
   "id": "b45354a7",
   "metadata": {},
   "source": [
    "- numpy\n",
    "- matplotlib"
   ]
  },
  {
   "cell_type": "markdown",
   "id": "2ee99992",
   "metadata": {},
   "source": [
    "## Introducing Dataframes"
   ]
  },
  {
   "cell_type": "code",
   "execution_count": 1,
   "id": "3d645ed4",
   "metadata": {},
   "outputs": [],
   "source": [
    "import pandas as pd\n",
    "house = pd.read_csv(\"house.csv\")"
   ]
  },
  {
   "cell_type": "markdown",
   "id": "b5ac8fba",
   "metadata": {},
   "source": [
    "### .head()"
   ]
  },
  {
   "cell_type": "markdown",
   "id": "cfb86222",
   "metadata": {},
   "source": [
    "- to see first five rows of data."
   ]
  },
  {
   "cell_type": "code",
   "execution_count": 2,
   "id": "5521f603",
   "metadata": {},
   "outputs": [
    {
     "name": "stdout",
     "output_type": "stream",
     "text": [
      "     id                                              name  host_id  \\\n",
      "0  2539                Clean & quiet apt home by the park     2787   \n",
      "1  2595                             Skylit Midtown Castle     2845   \n",
      "2  3647               THE VILLAGE OF HARLEM....NEW YORK !     4632   \n",
      "3  3831                   Cozy Entire Floor of Brownstone     4869   \n",
      "4  5022  Entire Apt: Spacious Studio/Loft by central park     7192   \n",
      "\n",
      "     host_name neighbourhood_group neighbourhood  latitude  longitude  \\\n",
      "0         John            Brooklyn    Kensington  40.64749  -73.97237   \n",
      "1     Jennifer           Manhattan       Midtown  40.75362  -73.98377   \n",
      "2    Elisabeth           Manhattan        Harlem  40.80902  -73.94190   \n",
      "3  LisaRoxanne            Brooklyn  Clinton Hill  40.68514  -73.95976   \n",
      "4        Laura           Manhattan   East Harlem  40.79851  -73.94399   \n",
      "\n",
      "         room_type  price  minimum_nights  number_of_reviews last_review  \\\n",
      "0     Private room    149               1                  9  2018-10-19   \n",
      "1  Entire home/apt    225               1                 45  2019-05-21   \n",
      "2     Private room    150               3                  0         NaN   \n",
      "3  Entire home/apt     89               1                270  2019-07-05   \n",
      "4  Entire home/apt     80              10                  9  2018-11-19   \n",
      "\n",
      "   reviews_per_month  calculated_host_listings_count  availability_365  \n",
      "0               0.21                               6               365  \n",
      "1               0.38                               2               355  \n",
      "2                NaN                               1               365  \n",
      "3               4.64                               1               194  \n",
      "4               0.10                               1                 0  \n"
     ]
    }
   ],
   "source": [
    "# Print the head of the house data\n",
    "print(house.head())\n",
    "\n"
   ]
  },
  {
   "cell_type": "markdown",
   "id": "a53ac4d6",
   "metadata": {},
   "source": [
    "### info() method"
   ]
  },
  {
   "cell_type": "markdown",
   "id": "4c9263dd",
   "metadata": {},
   "source": [
    "- used to get information about data"
   ]
  },
  {
   "cell_type": "code",
   "execution_count": 3,
   "id": "fa1b4e9a",
   "metadata": {},
   "outputs": [
    {
     "name": "stdout",
     "output_type": "stream",
     "text": [
      "<class 'pandas.core.frame.DataFrame'>\n",
      "RangeIndex: 48895 entries, 0 to 48894\n",
      "Data columns (total 16 columns):\n",
      " #   Column                          Non-Null Count  Dtype  \n",
      "---  ------                          --------------  -----  \n",
      " 0   id                              48895 non-null  int64  \n",
      " 1   name                            48879 non-null  object \n",
      " 2   host_id                         48895 non-null  int64  \n",
      " 3   host_name                       48874 non-null  object \n",
      " 4   neighbourhood_group             48895 non-null  object \n",
      " 5   neighbourhood                   48895 non-null  object \n",
      " 6   latitude                        48895 non-null  float64\n",
      " 7   longitude                       48895 non-null  float64\n",
      " 8   room_type                       48895 non-null  object \n",
      " 9   price                           48895 non-null  int64  \n",
      " 10  minimum_nights                  48895 non-null  int64  \n",
      " 11  number_of_reviews               48895 non-null  int64  \n",
      " 12  last_review                     38843 non-null  object \n",
      " 13  reviews_per_month               38843 non-null  float64\n",
      " 14  calculated_host_listings_count  48895 non-null  int64  \n",
      " 15  availability_365                48895 non-null  int64  \n",
      "dtypes: float64(3), int64(7), object(6)\n",
      "memory usage: 6.0+ MB\n",
      "None\n"
     ]
    }
   ],
   "source": [
    "# Print information about house\n",
    "print(house.info())\n",
    "\n"
   ]
  },
  {
   "cell_type": "markdown",
   "id": "76e97a27",
   "metadata": {},
   "source": [
    "## .shape"
   ]
  },
  {
   "cell_type": "markdown",
   "id": "0a666a7e",
   "metadata": {},
   "source": [
    "- print shape of data \n",
    "- rows and columns"
   ]
  },
  {
   "cell_type": "code",
   "execution_count": 4,
   "id": "6554ec6c",
   "metadata": {},
   "outputs": [
    {
     "name": "stdout",
     "output_type": "stream",
     "text": [
      "(48895, 16)\n"
     ]
    }
   ],
   "source": [
    "# Print the shape of house\n",
    "print(house.shape)\n"
   ]
  },
  {
   "cell_type": "markdown",
   "id": "52474854",
   "metadata": {},
   "source": [
    "## .describe()"
   ]
  },
  {
   "cell_type": "markdown",
   "id": "6693071f",
   "metadata": {},
   "source": [
    "- display the mean median and standard deviation etc."
   ]
  },
  {
   "cell_type": "code",
   "execution_count": 5,
   "id": "fa4a74a0",
   "metadata": {},
   "outputs": [
    {
     "name": "stdout",
     "output_type": "stream",
     "text": [
      "                                  count          mean           std  \\\n",
      "id                              48895.0  1.901714e+07  1.098311e+07   \n",
      "host_id                         48895.0  6.762001e+07  7.861097e+07   \n",
      "latitude                        48895.0  4.072895e+01  5.453008e-02   \n",
      "longitude                       48895.0 -7.395217e+01  4.615674e-02   \n",
      "price                           48895.0  1.527207e+02  2.401542e+02   \n",
      "minimum_nights                  48895.0  7.029962e+00  2.051055e+01   \n",
      "number_of_reviews               48895.0  2.327447e+01  4.455058e+01   \n",
      "reviews_per_month               38843.0  1.373221e+00  1.680442e+00   \n",
      "calculated_host_listings_count  48895.0  7.143982e+00  3.295252e+01   \n",
      "availability_365                48895.0  1.127813e+02  1.316223e+02   \n",
      "\n",
      "                                       min           25%           50%  \\\n",
      "id                              2539.00000  9.471945e+06  1.967728e+07   \n",
      "host_id                         2438.00000  7.822033e+06  3.079382e+07   \n",
      "latitude                          40.49979  4.069010e+01  4.072307e+01   \n",
      "longitude                        -74.24442 -7.398307e+01 -7.395568e+01   \n",
      "price                              0.00000  6.900000e+01  1.060000e+02   \n",
      "minimum_nights                     1.00000  1.000000e+00  3.000000e+00   \n",
      "number_of_reviews                  0.00000  1.000000e+00  5.000000e+00   \n",
      "reviews_per_month                  0.01000  1.900000e-01  7.200000e-01   \n",
      "calculated_host_listings_count     1.00000  1.000000e+00  1.000000e+00   \n",
      "availability_365                   0.00000  0.000000e+00  4.500000e+01   \n",
      "\n",
      "                                         75%           max  \n",
      "id                              2.915218e+07  3.648724e+07  \n",
      "host_id                         1.074344e+08  2.743213e+08  \n",
      "latitude                        4.076311e+01  4.091306e+01  \n",
      "longitude                      -7.393627e+01 -7.371299e+01  \n",
      "price                           1.750000e+02  1.000000e+04  \n",
      "minimum_nights                  5.000000e+00  1.250000e+03  \n",
      "number_of_reviews               2.400000e+01  6.290000e+02  \n",
      "reviews_per_month               2.020000e+00  5.850000e+01  \n",
      "calculated_host_listings_count  2.000000e+00  3.270000e+02  \n",
      "availability_365                2.270000e+02  3.650000e+02  \n"
     ]
    }
   ],
   "source": [
    "# Print a description of house\n",
    "print(house.describe().T)"
   ]
  },
  {
   "cell_type": "markdown",
   "id": "da3d9a31",
   "metadata": {},
   "source": [
    "## SUMMARY STATISTICS "
   ]
  },
  {
   "cell_type": "markdown",
   "id": "243f4e63",
   "metadata": {},
   "source": [
    "- It tells about your data"
   ]
  },
  {
   "cell_type": "markdown",
   "id": "fc3d0941",
   "metadata": {},
   "source": [
    "### Summarizing numerical data "
   ]
  },
  {
   "cell_type": "markdown",
   "id": "9500ec9d",
   "metadata": {},
   "source": [
    "#### MEAN"
   ]
  },
  {
   "cell_type": "markdown",
   "id": "d76c3398",
   "metadata": {},
   "source": [
    "- Tell about the center of your data\n",
    "- you can calculate mean by selection the column with square brackets\n",
    "- we can also find .min()\n",
    "- .max()\n",
    "- .agg()\n",
    "- .median()\n",
    "- .mode()\n",
    "- .std()\n",
    "- .var()"
   ]
  },
  {
   "cell_type": "code",
   "execution_count": 6,
   "id": "b4d2dc79",
   "metadata": {},
   "outputs": [
    {
     "name": "stdout",
     "output_type": "stream",
     "text": [
      "152.7206871868289\n"
     ]
    }
   ],
   "source": [
    "# Print the mean of house\n",
    "print(house['price'].mean())\n"
   ]
  },
  {
   "cell_type": "code",
   "execution_count": 7,
   "id": "924c8108",
   "metadata": {},
   "outputs": [
    {
     "name": "stdout",
     "output_type": "stream",
     "text": [
      "106.0\n"
     ]
    }
   ],
   "source": [
    "\n",
    "# Print the median of house\n",
    "print(house['price'].median())"
   ]
  },
  {
   "cell_type": "code",
   "execution_count": 8,
   "id": "fff80bca",
   "metadata": {},
   "outputs": [
    {
     "name": "stdout",
     "output_type": "stream",
     "text": [
      "10000\n"
     ]
    }
   ],
   "source": [
    "# Print the maximum of the price column\n",
    "print(max(house['price']))\n",
    "\n"
   ]
  },
  {
   "cell_type": "code",
   "execution_count": 9,
   "id": "ca9dee8f",
   "metadata": {},
   "outputs": [
    {
     "name": "stdout",
     "output_type": "stream",
     "text": [
      "0\n"
     ]
    }
   ],
   "source": [
    "# Print the minimum of the price column\n",
    "print(min(house['price']))"
   ]
  },
  {
   "cell_type": "markdown",
   "id": "7a6d39a2",
   "metadata": {},
   "source": [
    "### CUMULATIVE SUMMARY"
   ]
  },
  {
   "cell_type": "code",
   "execution_count": 10,
   "id": "b461105d",
   "metadata": {},
   "outputs": [],
   "source": [
    "# Sorting\n",
    "price_house = house.sort_values('price',ascending= True)\n"
   ]
  },
  {
   "cell_type": "code",
   "execution_count": 11,
   "id": "6b22bb83",
   "metadata": {},
   "outputs": [],
   "source": [
    "\n",
    "# Get the cumulative sum \n",
    "house['cum_house_price'] = house['price'].cumsum()\n"
   ]
  },
  {
   "cell_type": "code",
   "execution_count": 12,
   "id": "afcf99a3",
   "metadata": {},
   "outputs": [
    {
     "name": "stdout",
     "output_type": "stream",
     "text": [
      "       price  cum_house_price  cum_house_price_max\n",
      "0        149              149                  149\n",
      "1        225              374                  225\n",
      "2        150              524                  225\n",
      "3         89              613                  225\n",
      "4         80              693                  225\n",
      "...      ...              ...                  ...\n",
      "48890     70          7466978                10000\n",
      "48891     40          7467018                10000\n",
      "48892    115          7467133                10000\n",
      "48893     55          7467188                10000\n",
      "48894     90          7467278                10000\n",
      "\n",
      "[48895 rows x 3 columns]\n"
     ]
    }
   ],
   "source": [
    "\n",
    "# Get the cumulative max \n",
    "house['cum_house_price_max'] = house['price'].cummax()\n",
    "\n",
    "\n",
    "# See the columns you calculated\n",
    "print(house[[\"price\", \"cum_house_price\", \"cum_house_price_max\"]])"
   ]
  },
  {
   "cell_type": "markdown",
   "id": "6c3f4810",
   "metadata": {},
   "source": [
    "### DUPLICATE"
   ]
  },
  {
   "cell_type": "code",
   "execution_count": 13,
   "id": "d70a6bea",
   "metadata": {},
   "outputs": [
    {
     "data": {
      "text/html": [
       "<div>\n",
       "<style scoped>\n",
       "    .dataframe tbody tr th:only-of-type {\n",
       "        vertical-align: middle;\n",
       "    }\n",
       "\n",
       "    .dataframe tbody tr th {\n",
       "        vertical-align: top;\n",
       "    }\n",
       "\n",
       "    .dataframe thead th {\n",
       "        text-align: right;\n",
       "    }\n",
       "</style>\n",
       "<table border=\"1\" class=\"dataframe\">\n",
       "  <thead>\n",
       "    <tr style=\"text-align: right;\">\n",
       "      <th></th>\n",
       "      <th>id</th>\n",
       "      <th>name</th>\n",
       "      <th>host_id</th>\n",
       "      <th>host_name</th>\n",
       "      <th>neighbourhood_group</th>\n",
       "      <th>neighbourhood</th>\n",
       "      <th>latitude</th>\n",
       "      <th>longitude</th>\n",
       "      <th>room_type</th>\n",
       "      <th>price</th>\n",
       "      <th>minimum_nights</th>\n",
       "      <th>number_of_reviews</th>\n",
       "      <th>last_review</th>\n",
       "      <th>reviews_per_month</th>\n",
       "      <th>calculated_host_listings_count</th>\n",
       "      <th>availability_365</th>\n",
       "      <th>cum_house_price</th>\n",
       "      <th>cum_house_price_max</th>\n",
       "    </tr>\n",
       "  </thead>\n",
       "  <tbody>\n",
       "    <tr>\n",
       "      <th>0</th>\n",
       "      <td>2539</td>\n",
       "      <td>Clean &amp; quiet apt home by the park</td>\n",
       "      <td>2787</td>\n",
       "      <td>John</td>\n",
       "      <td>Brooklyn</td>\n",
       "      <td>Kensington</td>\n",
       "      <td>40.64749</td>\n",
       "      <td>-73.97237</td>\n",
       "      <td>Private room</td>\n",
       "      <td>149</td>\n",
       "      <td>1</td>\n",
       "      <td>9</td>\n",
       "      <td>2018-10-19</td>\n",
       "      <td>0.21</td>\n",
       "      <td>6</td>\n",
       "      <td>365</td>\n",
       "      <td>149</td>\n",
       "      <td>149</td>\n",
       "    </tr>\n",
       "    <tr>\n",
       "      <th>1</th>\n",
       "      <td>2595</td>\n",
       "      <td>Skylit Midtown Castle</td>\n",
       "      <td>2845</td>\n",
       "      <td>Jennifer</td>\n",
       "      <td>Manhattan</td>\n",
       "      <td>Midtown</td>\n",
       "      <td>40.75362</td>\n",
       "      <td>-73.98377</td>\n",
       "      <td>Entire home/apt</td>\n",
       "      <td>225</td>\n",
       "      <td>1</td>\n",
       "      <td>45</td>\n",
       "      <td>2019-05-21</td>\n",
       "      <td>0.38</td>\n",
       "      <td>2</td>\n",
       "      <td>355</td>\n",
       "      <td>374</td>\n",
       "      <td>225</td>\n",
       "    </tr>\n",
       "    <tr>\n",
       "      <th>2</th>\n",
       "      <td>3647</td>\n",
       "      <td>THE VILLAGE OF HARLEM....NEW YORK !</td>\n",
       "      <td>4632</td>\n",
       "      <td>Elisabeth</td>\n",
       "      <td>Manhattan</td>\n",
       "      <td>Harlem</td>\n",
       "      <td>40.80902</td>\n",
       "      <td>-73.94190</td>\n",
       "      <td>Private room</td>\n",
       "      <td>150</td>\n",
       "      <td>3</td>\n",
       "      <td>0</td>\n",
       "      <td>NaN</td>\n",
       "      <td>NaN</td>\n",
       "      <td>1</td>\n",
       "      <td>365</td>\n",
       "      <td>524</td>\n",
       "      <td>225</td>\n",
       "    </tr>\n",
       "    <tr>\n",
       "      <th>3</th>\n",
       "      <td>3831</td>\n",
       "      <td>Cozy Entire Floor of Brownstone</td>\n",
       "      <td>4869</td>\n",
       "      <td>LisaRoxanne</td>\n",
       "      <td>Brooklyn</td>\n",
       "      <td>Clinton Hill</td>\n",
       "      <td>40.68514</td>\n",
       "      <td>-73.95976</td>\n",
       "      <td>Entire home/apt</td>\n",
       "      <td>89</td>\n",
       "      <td>1</td>\n",
       "      <td>270</td>\n",
       "      <td>2019-07-05</td>\n",
       "      <td>4.64</td>\n",
       "      <td>1</td>\n",
       "      <td>194</td>\n",
       "      <td>613</td>\n",
       "      <td>225</td>\n",
       "    </tr>\n",
       "    <tr>\n",
       "      <th>4</th>\n",
       "      <td>5022</td>\n",
       "      <td>Entire Apt: Spacious Studio/Loft by central park</td>\n",
       "      <td>7192</td>\n",
       "      <td>Laura</td>\n",
       "      <td>Manhattan</td>\n",
       "      <td>East Harlem</td>\n",
       "      <td>40.79851</td>\n",
       "      <td>-73.94399</td>\n",
       "      <td>Entire home/apt</td>\n",
       "      <td>80</td>\n",
       "      <td>10</td>\n",
       "      <td>9</td>\n",
       "      <td>2018-11-19</td>\n",
       "      <td>0.10</td>\n",
       "      <td>1</td>\n",
       "      <td>0</td>\n",
       "      <td>693</td>\n",
       "      <td>225</td>\n",
       "    </tr>\n",
       "    <tr>\n",
       "      <th>...</th>\n",
       "      <td>...</td>\n",
       "      <td>...</td>\n",
       "      <td>...</td>\n",
       "      <td>...</td>\n",
       "      <td>...</td>\n",
       "      <td>...</td>\n",
       "      <td>...</td>\n",
       "      <td>...</td>\n",
       "      <td>...</td>\n",
       "      <td>...</td>\n",
       "      <td>...</td>\n",
       "      <td>...</td>\n",
       "      <td>...</td>\n",
       "      <td>...</td>\n",
       "      <td>...</td>\n",
       "      <td>...</td>\n",
       "      <td>...</td>\n",
       "      <td>...</td>\n",
       "    </tr>\n",
       "    <tr>\n",
       "      <th>48080</th>\n",
       "      <td>36074198</td>\n",
       "      <td>Luxury apartment 2 min to times square</td>\n",
       "      <td>203565865</td>\n",
       "      <td>Vinícius</td>\n",
       "      <td>Manhattan</td>\n",
       "      <td>SoHo</td>\n",
       "      <td>40.72060</td>\n",
       "      <td>-74.00023</td>\n",
       "      <td>Entire home/apt</td>\n",
       "      <td>1308</td>\n",
       "      <td>2</td>\n",
       "      <td>0</td>\n",
       "      <td>NaN</td>\n",
       "      <td>NaN</td>\n",
       "      <td>1</td>\n",
       "      <td>179</td>\n",
       "      <td>7344033</td>\n",
       "      <td>10000</td>\n",
       "    </tr>\n",
       "    <tr>\n",
       "      <th>48232</th>\n",
       "      <td>36146672</td>\n",
       "      <td>Veneta New York suite</td>\n",
       "      <td>266037277</td>\n",
       "      <td>Gianluigi</td>\n",
       "      <td>Manhattan</td>\n",
       "      <td>Hell's Kitchen</td>\n",
       "      <td>40.76687</td>\n",
       "      <td>-73.98644</td>\n",
       "      <td>Private room</td>\n",
       "      <td>561</td>\n",
       "      <td>1</td>\n",
       "      <td>0</td>\n",
       "      <td>NaN</td>\n",
       "      <td>NaN</td>\n",
       "      <td>1</td>\n",
       "      <td>364</td>\n",
       "      <td>7366898</td>\n",
       "      <td>10000</td>\n",
       "    </tr>\n",
       "    <tr>\n",
       "      <th>48523</th>\n",
       "      <td>36308562</td>\n",
       "      <td>Tasteful &amp; Trendy Brooklyn Brownstone, near Train</td>\n",
       "      <td>217732163</td>\n",
       "      <td>Sandy</td>\n",
       "      <td>Brooklyn</td>\n",
       "      <td>Bedford-Stuyvesant</td>\n",
       "      <td>40.68767</td>\n",
       "      <td>-73.95805</td>\n",
       "      <td>Entire home/apt</td>\n",
       "      <td>1369</td>\n",
       "      <td>1</td>\n",
       "      <td>0</td>\n",
       "      <td>NaN</td>\n",
       "      <td>NaN</td>\n",
       "      <td>1</td>\n",
       "      <td>349</td>\n",
       "      <td>7413956</td>\n",
       "      <td>10000</td>\n",
       "    </tr>\n",
       "    <tr>\n",
       "      <th>48535</th>\n",
       "      <td>36311055</td>\n",
       "      <td>Stunning &amp; Stylish Brooklyn Luxury, near Train</td>\n",
       "      <td>245712163</td>\n",
       "      <td>Urvashi</td>\n",
       "      <td>Brooklyn</td>\n",
       "      <td>Bedford-Stuyvesant</td>\n",
       "      <td>40.68245</td>\n",
       "      <td>-73.93417</td>\n",
       "      <td>Entire home/apt</td>\n",
       "      <td>1749</td>\n",
       "      <td>1</td>\n",
       "      <td>0</td>\n",
       "      <td>NaN</td>\n",
       "      <td>NaN</td>\n",
       "      <td>1</td>\n",
       "      <td>303</td>\n",
       "      <td>7417845</td>\n",
       "      <td>10000</td>\n",
       "    </tr>\n",
       "    <tr>\n",
       "      <th>48562</th>\n",
       "      <td>36315692</td>\n",
       "      <td>Premium Chelsea 1BR w/ Gym, W/D, Doorman, Sund...</td>\n",
       "      <td>107434423</td>\n",
       "      <td>Blueground</td>\n",
       "      <td>Manhattan</td>\n",
       "      <td>Midtown</td>\n",
       "      <td>40.74530</td>\n",
       "      <td>-73.99063</td>\n",
       "      <td>Entire home/apt</td>\n",
       "      <td>338</td>\n",
       "      <td>30</td>\n",
       "      <td>0</td>\n",
       "      <td>NaN</td>\n",
       "      <td>NaN</td>\n",
       "      <td>232</td>\n",
       "      <td>325</td>\n",
       "      <td>7422567</td>\n",
       "      <td>10000</td>\n",
       "    </tr>\n",
       "  </tbody>\n",
       "</table>\n",
       "<p>674 rows × 18 columns</p>\n",
       "</div>"
      ],
      "text/plain": [
       "             id                                               name    host_id  \\\n",
       "0          2539                 Clean & quiet apt home by the park       2787   \n",
       "1          2595                              Skylit Midtown Castle       2845   \n",
       "2          3647                THE VILLAGE OF HARLEM....NEW YORK !       4632   \n",
       "3          3831                    Cozy Entire Floor of Brownstone       4869   \n",
       "4          5022   Entire Apt: Spacious Studio/Loft by central park       7192   \n",
       "...         ...                                                ...        ...   \n",
       "48080  36074198             Luxury apartment 2 min to times square  203565865   \n",
       "48232  36146672                              Veneta New York suite  266037277   \n",
       "48523  36308562  Tasteful & Trendy Brooklyn Brownstone, near Train  217732163   \n",
       "48535  36311055     Stunning & Stylish Brooklyn Luxury, near Train  245712163   \n",
       "48562  36315692  Premium Chelsea 1BR w/ Gym, W/D, Doorman, Sund...  107434423   \n",
       "\n",
       "         host_name neighbourhood_group       neighbourhood  latitude  \\\n",
       "0             John            Brooklyn          Kensington  40.64749   \n",
       "1         Jennifer           Manhattan             Midtown  40.75362   \n",
       "2        Elisabeth           Manhattan              Harlem  40.80902   \n",
       "3      LisaRoxanne            Brooklyn        Clinton Hill  40.68514   \n",
       "4            Laura           Manhattan         East Harlem  40.79851   \n",
       "...            ...                 ...                 ...       ...   \n",
       "48080     Vinícius           Manhattan                SoHo  40.72060   \n",
       "48232    Gianluigi           Manhattan      Hell's Kitchen  40.76687   \n",
       "48523        Sandy            Brooklyn  Bedford-Stuyvesant  40.68767   \n",
       "48535      Urvashi            Brooklyn  Bedford-Stuyvesant  40.68245   \n",
       "48562   Blueground           Manhattan             Midtown  40.74530   \n",
       "\n",
       "       longitude        room_type  price  minimum_nights  number_of_reviews  \\\n",
       "0      -73.97237     Private room    149               1                  9   \n",
       "1      -73.98377  Entire home/apt    225               1                 45   \n",
       "2      -73.94190     Private room    150               3                  0   \n",
       "3      -73.95976  Entire home/apt     89               1                270   \n",
       "4      -73.94399  Entire home/apt     80              10                  9   \n",
       "...          ...              ...    ...             ...                ...   \n",
       "48080  -74.00023  Entire home/apt   1308               2                  0   \n",
       "48232  -73.98644     Private room    561               1                  0   \n",
       "48523  -73.95805  Entire home/apt   1369               1                  0   \n",
       "48535  -73.93417  Entire home/apt   1749               1                  0   \n",
       "48562  -73.99063  Entire home/apt    338              30                  0   \n",
       "\n",
       "      last_review  reviews_per_month  calculated_host_listings_count  \\\n",
       "0      2018-10-19               0.21                               6   \n",
       "1      2019-05-21               0.38                               2   \n",
       "2             NaN                NaN                               1   \n",
       "3      2019-07-05               4.64                               1   \n",
       "4      2018-11-19               0.10                               1   \n",
       "...           ...                ...                             ...   \n",
       "48080         NaN                NaN                               1   \n",
       "48232         NaN                NaN                               1   \n",
       "48523         NaN                NaN                               1   \n",
       "48535         NaN                NaN                               1   \n",
       "48562         NaN                NaN                             232   \n",
       "\n",
       "       availability_365  cum_house_price  cum_house_price_max  \n",
       "0                   365              149                  149  \n",
       "1                   355              374                  225  \n",
       "2                   365              524                  225  \n",
       "3                   194              613                  225  \n",
       "4                     0              693                  225  \n",
       "...                 ...              ...                  ...  \n",
       "48080               179          7344033                10000  \n",
       "48232               364          7366898                10000  \n",
       "48523               349          7413956                10000  \n",
       "48535               303          7417845                10000  \n",
       "48562               325          7422567                10000  \n",
       "\n",
       "[674 rows x 18 columns]"
      ]
     },
     "execution_count": 13,
     "metadata": {},
     "output_type": "execute_result"
    }
   ],
   "source": [
    "house_price_dup = house.drop_duplicates(subset=['price'])\n",
    "house_price_dup"
   ]
  },
  {
   "cell_type": "code",
   "execution_count": 14,
   "id": "989984cb",
   "metadata": {},
   "outputs": [],
   "source": [
    "### EXPLICIT INDEXES"
   ]
  },
  {
   "cell_type": "code",
   "execution_count": 15,
   "id": "d93f48a2",
   "metadata": {},
   "outputs": [
    {
     "name": "stdout",
     "output_type": "stream",
     "text": [
      "             id                                               name   host_id  \\\n",
      "0          2539                 Clean & quiet apt home by the park      2787   \n",
      "1          2595                              Skylit Midtown Castle      2845   \n",
      "2          3647                THE VILLAGE OF HARLEM....NEW YORK !      4632   \n",
      "3          3831                    Cozy Entire Floor of Brownstone      4869   \n",
      "4          5022   Entire Apt: Spacious Studio/Loft by central park      7192   \n",
      "...         ...                                                ...       ...   \n",
      "48890  36484665    Charming one bedroom - newly renovated rowhouse   8232441   \n",
      "48891  36485057      Affordable room in Bushwick/East Williamsburg   6570630   \n",
      "48892  36485431            Sunny Studio at Historical Neighborhood  23492952   \n",
      "48893  36485609               43rd St. Time Square-cozy single bed  30985759   \n",
      "48894  36487245  Trendy duplex in the very heart of Hell's Kitchen  68119814   \n",
      "\n",
      "           host_name neighbourhood_group       neighbourhood  latitude  \\\n",
      "0               John            Brooklyn          Kensington  40.64749   \n",
      "1           Jennifer           Manhattan             Midtown  40.75362   \n",
      "2          Elisabeth           Manhattan              Harlem  40.80902   \n",
      "3        LisaRoxanne            Brooklyn        Clinton Hill  40.68514   \n",
      "4              Laura           Manhattan         East Harlem  40.79851   \n",
      "...              ...                 ...                 ...       ...   \n",
      "48890        Sabrina            Brooklyn  Bedford-Stuyvesant  40.67853   \n",
      "48891        Marisol            Brooklyn            Bushwick  40.70184   \n",
      "48892  Ilgar & Aysel           Manhattan              Harlem  40.81475   \n",
      "48893            Taz           Manhattan      Hell's Kitchen  40.75751   \n",
      "48894     Christophe           Manhattan      Hell's Kitchen  40.76404   \n",
      "\n",
      "       longitude        room_type  price  minimum_nights  number_of_reviews  \\\n",
      "0      -73.97237     Private room    149               1                  9   \n",
      "1      -73.98377  Entire home/apt    225               1                 45   \n",
      "2      -73.94190     Private room    150               3                  0   \n",
      "3      -73.95976  Entire home/apt     89               1                270   \n",
      "4      -73.94399  Entire home/apt     80              10                  9   \n",
      "...          ...              ...    ...             ...                ...   \n",
      "48890  -73.94995     Private room     70               2                  0   \n",
      "48891  -73.93317     Private room     40               4                  0   \n",
      "48892  -73.94867  Entire home/apt    115              10                  0   \n",
      "48893  -73.99112      Shared room     55               1                  0   \n",
      "48894  -73.98933     Private room     90               7                  0   \n",
      "\n",
      "      last_review  reviews_per_month  calculated_host_listings_count  \\\n",
      "0      2018-10-19               0.21                               6   \n",
      "1      2019-05-21               0.38                               2   \n",
      "2             NaN                NaN                               1   \n",
      "3      2019-07-05               4.64                               1   \n",
      "4      2018-11-19               0.10                               1   \n",
      "...           ...                ...                             ...   \n",
      "48890         NaN                NaN                               2   \n",
      "48891         NaN                NaN                               2   \n",
      "48892         NaN                NaN                               1   \n",
      "48893         NaN                NaN                               6   \n",
      "48894         NaN                NaN                               1   \n",
      "\n",
      "       availability_365  cum_house_price  cum_house_price_max  \n",
      "0                   365              149                  149  \n",
      "1                   355              374                  225  \n",
      "2                   365              524                  225  \n",
      "3                   194              613                  225  \n",
      "4                     0              693                  225  \n",
      "...                 ...              ...                  ...  \n",
      "48890                 9          7466978                10000  \n",
      "48891                36          7467018                10000  \n",
      "48892                27          7467133                10000  \n",
      "48893                 2          7467188                10000  \n",
      "48894                23          7467278                10000  \n",
      "\n",
      "[48895 rows x 18 columns]\n",
      "0                Kensington\n",
      "1                   Midtown\n",
      "2                    Harlem\n",
      "3              Clinton Hill\n",
      "4               East Harlem\n",
      "                ...        \n",
      "48890    Bedford-Stuyvesant\n",
      "48891              Bushwick\n",
      "48892                Harlem\n",
      "48893        Hell's Kitchen\n",
      "48894        Hell's Kitchen\n",
      "Name: neighbourhood, Length: 48895, dtype: object\n",
      "       index       neighbourhood\n",
      "0          0          Kensington\n",
      "1          1             Midtown\n",
      "2          2              Harlem\n",
      "3          3        Clinton Hill\n",
      "4          4         East Harlem\n",
      "...      ...                 ...\n",
      "48890  48890  Bedford-Stuyvesant\n",
      "48891  48891            Bushwick\n",
      "48892  48892              Harlem\n",
      "48893  48893      Hell's Kitchen\n",
      "48894  48894      Hell's Kitchen\n",
      "\n",
      "[48895 rows x 2 columns]\n",
      "0                Kensington\n",
      "1                   Midtown\n",
      "2                    Harlem\n",
      "3              Clinton Hill\n",
      "4               East Harlem\n",
      "                ...        \n",
      "48890    Bedford-Stuyvesant\n",
      "48891              Bushwick\n",
      "48892                Harlem\n",
      "48893        Hell's Kitchen\n",
      "48894        Hell's Kitchen\n",
      "Name: neighbourhood, Length: 48895, dtype: object\n"
     ]
    }
   ],
   "source": [
    "# Look at temperatures\n",
    "print(house)\n",
    "\n",
    "# Index temperatures by city\n",
    "house_ind = house['neighbourhood']\n",
    "\n",
    "# Look at temperatures_ind\n",
    "print(house_ind)\n",
    "\n",
    "# Reset the index, keeping its contents\n",
    "print(house_ind.reset_index())\n",
    "\n",
    "# Reset the index, dropping its contents\n",
    "print(house_ind.reset_index(drop = True))"
   ]
  },
  {
   "cell_type": "code",
   "execution_count": 16,
   "id": "5f1b730f",
   "metadata": {},
   "outputs": [
    {
     "name": "stdout",
     "output_type": "stream",
     "text": [
      "             id                                             name    host_id  \\\n",
      "1          2595                            Skylit Midtown Castle       2845   \n",
      "2          3647              THE VILLAGE OF HARLEM....NEW YORK !       4632   \n",
      "30         9668                            front room/double bed      32294   \n",
      "31         9704              Spacious 1 bedroom in luxe building      32045   \n",
      "33         9783                              back room/bunk beds      32294   \n",
      "...         ...                                              ...        ...   \n",
      "48849  36455579                        Studio in Manhattan(独立出入)  257261595   \n",
      "48871  36475746    A LARGE ROOM - 1 MONTH MINIMUM - WASHER&DRYER  144008701   \n",
      "48876  36478357  Cozy, Air-Conditioned Private Bedroom in Harlem  177932088   \n",
      "48886  36483010                  Comfy 1 Bedroom in Midtown East  274311461   \n",
      "48892  36485431          Sunny Studio at Historical Neighborhood   23492952   \n",
      "\n",
      "             host_name neighbourhood_group neighbourhood  latitude  longitude  \\\n",
      "1             Jennifer           Manhattan       Midtown  40.75362  -73.98377   \n",
      "2            Elisabeth           Manhattan        Harlem  40.80902  -73.94190   \n",
      "30     Ssameer Or Trip           Manhattan        Harlem  40.82245  -73.95104   \n",
      "31                Teri           Manhattan        Harlem  40.81305  -73.95466   \n",
      "33     Ssameer Or Trip           Manhattan        Harlem  40.82130  -73.95318   \n",
      "...                ...                 ...           ...       ...        ...   \n",
      "48849          Xiaolan           Manhattan        Harlem  40.80951  -73.95347   \n",
      "48871        Ozzy Ciao           Manhattan        Harlem  40.82233  -73.94687   \n",
      "48876           Joseph           Manhattan        Harlem  40.80953  -73.95410   \n",
      "48886            Scott           Manhattan       Midtown  40.75561  -73.96723   \n",
      "48892    Ilgar & Aysel           Manhattan        Harlem  40.81475  -73.94867   \n",
      "\n",
      "             room_type  price  minimum_nights  number_of_reviews last_review  \\\n",
      "1      Entire home/apt    225               1                 45  2019-05-21   \n",
      "2         Private room    150               3                  0         NaN   \n",
      "30        Private room     50               3                242  2019-06-01   \n",
      "31        Private room     52               2                 88  2019-06-14   \n",
      "33        Private room     50               3                273  2019-07-01   \n",
      "...                ...    ...             ...                ...         ...   \n",
      "48849  Entire home/apt     65               1                  0         NaN   \n",
      "48871     Private room     35              29                  0         NaN   \n",
      "48876     Private room     60               1                  0         NaN   \n",
      "48886  Entire home/apt    200               6                  0         NaN   \n",
      "48892  Entire home/apt    115              10                  0         NaN   \n",
      "\n",
      "       reviews_per_month  calculated_host_listings_count  availability_365  \\\n",
      "1                   0.38                               2               355   \n",
      "2                    NaN                               1               365   \n",
      "30                  2.04                               3               355   \n",
      "31                  1.42                               1               255   \n",
      "33                  2.37                               3               359   \n",
      "...                  ...                             ...               ...   \n",
      "48849                NaN                               1                32   \n",
      "48871                NaN                               2                31   \n",
      "48876                NaN                               1                26   \n",
      "48886                NaN                               1               176   \n",
      "48892                NaN                               1                27   \n",
      "\n",
      "       cum_house_price  cum_house_price_max  \n",
      "1                  374                  225  \n",
      "2                  524                  225  \n",
      "30                3862                  299  \n",
      "31                3914                  299  \n",
      "33                4019                  299  \n",
      "...                ...                  ...  \n",
      "48849          7462735                10000  \n",
      "48871          7464907                10000  \n",
      "48876          7465587                10000  \n",
      "48886          7466548                10000  \n",
      "48892          7467133                10000  \n",
      "\n",
      "[4203 rows x 18 columns]\n"
     ]
    }
   ],
   "source": [
    "# Make a list of cities to subset on\n",
    "house_neigh = ['Midtown', 'Harlem']\n",
    "\n",
    "# Subset temperatures using square brackets\n",
    "print(house[house['neighbourhood'].isin(house_neigh)])\n"
   ]
  },
  {
   "cell_type": "code",
   "execution_count": 17,
   "id": "e03ce5ba",
   "metadata": {},
   "outputs": [],
   "source": [
    "##Slicing and subsetting with .loc and .iloc"
   ]
  },
  {
   "cell_type": "code",
   "execution_count": 18,
   "id": "33cccefd",
   "metadata": {},
   "outputs": [
    {
     "name": "stdout",
     "output_type": "stream",
     "text": [
      "Series([], Name: neighbourhood, dtype: object)\n"
     ]
    }
   ],
   "source": [
    "# Sort the index of temperatures_ind\n",
    "house_srt = house_ind.sort_index()\n",
    "\n",
    "# Subset rows from Pakistan to Russia\n",
    "print(house_srt.loc['Midtown':'Clinton Hill'])\n",
    "\n"
   ]
  },
  {
   "cell_type": "markdown",
   "id": "3015005e",
   "metadata": {},
   "source": [
    "## MISSING VALUES "
   ]
  },
  {
   "cell_type": "code",
   "execution_count": 19,
   "id": "1689f0ce",
   "metadata": {},
   "outputs": [
    {
     "data": {
      "text/plain": [
       "id                                    0\n",
       "name                                 16\n",
       "host_id                               0\n",
       "host_name                            21\n",
       "neighbourhood_group                   0\n",
       "neighbourhood                         0\n",
       "latitude                              0\n",
       "longitude                             0\n",
       "room_type                             0\n",
       "price                                 0\n",
       "minimum_nights                        0\n",
       "number_of_reviews                     0\n",
       "last_review                       10052\n",
       "reviews_per_month                 10052\n",
       "calculated_host_listings_count        0\n",
       "availability_365                      0\n",
       "cum_house_price                       0\n",
       "cum_house_price_max                   0\n",
       "dtype: int64"
      ]
     },
     "execution_count": 19,
     "metadata": {},
     "output_type": "execute_result"
    }
   ],
   "source": [
    "house.isnull().sum()"
   ]
  },
  {
   "cell_type": "code",
   "execution_count": 20,
   "id": "7dc0b6ea",
   "metadata": {},
   "outputs": [
    {
     "data": {
      "text/plain": [
       "0        False\n",
       "1        False\n",
       "2        False\n",
       "3        False\n",
       "4        False\n",
       "         ...  \n",
       "48890    False\n",
       "48891    False\n",
       "48892    False\n",
       "48893    False\n",
       "48894    False\n",
       "Name: price, Length: 48895, dtype: bool"
      ]
     },
     "execution_count": 20,
     "metadata": {},
     "output_type": "execute_result"
    }
   ],
   "source": [
    "house.price.isna()"
   ]
  },
  {
   "cell_type": "code",
   "execution_count": 21,
   "id": "d93e04db",
   "metadata": {},
   "outputs": [
    {
     "data": {
      "text/plain": [
       "id                                False\n",
       "name                               True\n",
       "host_id                           False\n",
       "host_name                          True\n",
       "neighbourhood_group               False\n",
       "neighbourhood                     False\n",
       "latitude                          False\n",
       "longitude                         False\n",
       "room_type                         False\n",
       "price                             False\n",
       "minimum_nights                    False\n",
       "number_of_reviews                 False\n",
       "last_review                        True\n",
       "reviews_per_month                  True\n",
       "calculated_host_listings_count    False\n",
       "availability_365                  False\n",
       "cum_house_price                   False\n",
       "cum_house_price_max               False\n",
       "dtype: bool"
      ]
     },
     "execution_count": 21,
     "metadata": {},
     "output_type": "execute_result"
    }
   ],
   "source": [
    "house.isna().any()"
   ]
  },
  {
   "cell_type": "code",
   "execution_count": null,
   "id": "a5750b6b",
   "metadata": {},
   "outputs": [],
   "source": []
  },
  {
   "cell_type": "code",
   "execution_count": null,
   "id": "932d8130",
   "metadata": {},
   "outputs": [],
   "source": []
  },
  {
   "cell_type": "code",
   "execution_count": null,
   "id": "baabf9ef",
   "metadata": {},
   "outputs": [],
   "source": []
  },
  {
   "cell_type": "code",
   "execution_count": null,
   "id": "5ea34d5b",
   "metadata": {},
   "outputs": [],
   "source": []
  },
  {
   "cell_type": "code",
   "execution_count": null,
   "id": "6b849944",
   "metadata": {},
   "outputs": [],
   "source": []
  },
  {
   "cell_type": "code",
   "execution_count": null,
   "id": "5b7e6b1c",
   "metadata": {},
   "outputs": [],
   "source": []
  },
  {
   "cell_type": "code",
   "execution_count": null,
   "id": "8022ced0",
   "metadata": {},
   "outputs": [],
   "source": []
  },
  {
   "cell_type": "code",
   "execution_count": null,
   "id": "66d6e865",
   "metadata": {},
   "outputs": [],
   "source": []
  }
 ],
 "metadata": {
  "kernelspec": {
   "display_name": "Python 3",
   "language": "python",
   "name": "python3"
  },
  "language_info": {
   "codemirror_mode": {
    "name": "ipython",
    "version": 3
   },
   "file_extension": ".py",
   "mimetype": "text/x-python",
   "name": "python",
   "nbconvert_exporter": "python",
   "pygments_lexer": "ipython3",
   "version": "3.8.8"
  }
 },
 "nbformat": 4,
 "nbformat_minor": 5
}
